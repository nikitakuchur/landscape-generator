{
 "cells": [
  {
   "cell_type": "code",
   "execution_count": 1054,
   "metadata": {},
   "outputs": [],
   "source": [
    "import torch\n",
    "import torchvision\n",
    "from torch import nn\n",
    "import torch.nn.functional as F\n",
    "from torchvision import transforms\n",
    "from torch.utils.data import Dataset, DataLoader\n",
    "from torch.autograd import Variable\n",
    "\n",
    "from PIL import Image\n",
    "import os"
   ]
  },
  {
   "cell_type": "code",
   "execution_count": 1084,
   "metadata": {},
   "outputs": [],
   "source": [
    "class ImagesDataset(Dataset):\n",
    "    def __init__(self, root_dir):\n",
    "        self.root_dir = root_dir\n",
    "        self.img_names = os.listdir(root_dir)\n",
    "        \n",
    "    def __getitem__(self, index):\n",
    "        img = Image.open(self.root_dir + '/' + self.img_names[index]).convert('L')\n",
    "        item = transforms.ToTensor()(img)\n",
    "        img.close()\n",
    "        return item.view(1, 64, 64)\n",
    "\n",
    "    def __len__(self):\n",
    "        return len(self.img_names)"
   ]
  },
  {
   "cell_type": "code",
   "execution_count": 1085,
   "metadata": {},
   "outputs": [
    {
     "data": {
      "image/png": "[encoded data removed]",
      "text/plain": [
       "<Figure size 432x288 with 1 Axes>"
      ]
     },
     "metadata": {
      "needs_background": "light"
     },
     "output_type": "display_data"
    }
   ],
   "source": [
    "import matplotlib.pyplot as plt\n",
    "\n",
    "dataset = ImagesDataset('./data')\n",
    "plt.imshow(dataset[400].view(64, 64))\n",
    "plt.show()"
   ]
  },
  {
   "cell_type": "code",
   "execution_count": 1086,
   "metadata": {},
   "outputs": [],
   "source": [
    "dataloader = DataLoader(dataset, batch_size=100, shuffle=True)"
   ]
  },
  {
   "cell_type": "code",
   "execution_count": 1403,
   "metadata": {},
   "outputs": [],
   "source": [
    "class Autoencoder(nn.Module):\n",
    "    def __init__(self):\n",
    "        super(Autoencoder, self).__init__()\n",
    "        \n",
    "        # Encoder specification\n",
    "        self.enc_cnn_1 = nn.Conv2d(1, 16, 5, padding=2)\n",
    "        self.enc_cnn_2 = nn.Conv2d(16, 32, 5, padding=2)\n",
    "        self.enc_linear_1 = nn.Linear(8192, 16)\n",
    "        \n",
    "        # Decoder specification\n",
    "        self.dec_cnn_1 = nn.ConvTranspose2d(1, 16, 5, stride=2)\n",
    "        self.dec_cnn_2 = nn.ConvTranspose2d(16, 8, 3, stride=3)\n",
    "        self.dec_cnn_3 = nn.ConvTranspose2d(8, 1, 2, stride=2, padding=1)\n",
    "        \n",
    "    def encode(self, data):\n",
    "        code = self.enc_cnn_1(data)\n",
    "        code = F.relu(F.max_pool2d(code, 2))\n",
    "        \n",
    "        code = self.enc_cnn_2(code)\n",
    "        code = F.relu(F.max_pool2d(code, 2))\n",
    "        \n",
    "        code = code.view([data.size(0), -1])\n",
    "        code = self.enc_linear_1(code)\n",
    "        return code\n",
    "    \n",
    "    def decode(self, code):\n",
    "        out = code.view(-1, 1, 4, 4)\n",
    "        out = F.relu(self.dec_cnn_1(out))\n",
    "        out = F.relu(self.dec_cnn_2(out))\n",
    "        out = self.dec_cnn_3(out)\n",
    "        return out\n",
    "        \n",
    "    def forward(self, data):\n",
    "        code = self.encode(data)\n",
    "        out = self.decode(code)\n",
    "        return out"
   ]
  },
  {
   "cell_type": "code",
   "execution_count": 1368,
   "metadata": {},
   "outputs": [],
   "source": [
    "net = Autoencoder().cuda()"
   ]
  },
  {
   "cell_type": "code",
   "execution_count": 1369,
   "metadata": {},
   "outputs": [
    {
     "data": {
      "image/png": "[encoded data removed]",
      "text/plain": [
       "<Figure size 432x288 with 1 Axes>"
      ]
     },
     "metadata": {
      "needs_background": "light"
     },
     "output_type": "display_data"
    }
   ],
   "source": [
    "x = Variable(dataset[400]).cuda()\n",
    "output = net(x.view(1, 1, 64, 64))\n",
    "plt.imshow(output.view(64, 64).cpu().detach().numpy())\n",
    "plt.show()"
   ]
  },
  {
   "cell_type": "code",
   "execution_count": 1370,
   "metadata": {
    "scrolled": true
   },
   "outputs": [
    {
     "name": "stdout",
     "output_type": "stream",
     "text": [
      "tensor(0.0647, device='cuda:0', grad_fn=<MseLossBackward>)\n",
      "tensor(0.0319, device='cuda:0', grad_fn=<MseLossBackward>)\n",
      "tensor(0.0216, device='cuda:0', grad_fn=<MseLossBackward>)\n",
      "tensor(0.0173, device='cuda:0', grad_fn=<MseLossBackward>)\n",
      "tensor(0.0119, device='cuda:0', grad_fn=<MseLossBackward>)\n",
      "tensor(0.0094, device='cuda:0', grad_fn=<MseLossBackward>)\n",
      "tensor(0.0073, device='cuda:0', grad_fn=<MseLossBackward>)\n",
      "tensor(0.0060, device='cuda:0', grad_fn=<MseLossBackward>)\n",
      "tensor(0.0050, device='cuda:0', grad_fn=<MseLossBackward>)\n",
      "tensor(0.0040, device='cuda:0', grad_fn=<MseLossBackward>)\n",
      "tensor(0.0045, device='cuda:0', grad_fn=<MseLossBackward>)\n",
      "tensor(0.0025, device='cuda:0', grad_fn=<MseLossBackward>)\n",
      "tensor(0.0022, device='cuda:0', grad_fn=<MseLossBackward>)\n",
      "tensor(0.0017, device='cuda:0', grad_fn=<MseLossBackward>)\n",
      "tensor(0.0018, device='cuda:0', grad_fn=<MseLossBackward>)\n",
      "tensor(0.0017, device='cuda:0', grad_fn=<MseLossBackward>)\n",
      "tensor(0.0010, device='cuda:0', grad_fn=<MseLossBackward>)\n",
      "tensor(0.0011, device='cuda:0', grad_fn=<MseLossBackward>)\n",
      "tensor(0.0012, device='cuda:0', grad_fn=<MseLossBackward>)\n",
      "tensor(0.0011, device='cuda:0', grad_fn=<MseLossBackward>)\n",
      "tensor(0.0009, device='cuda:0', grad_fn=<MseLossBackward>)\n",
      "tensor(0.0011, device='cuda:0', grad_fn=<MseLossBackward>)\n",
      "tensor(0.0009, device='cuda:0', grad_fn=<MseLossBackward>)\n",
      "tensor(0.0008, device='cuda:0', grad_fn=<MseLossBackward>)\n",
      "tensor(0.0009, device='cuda:0', grad_fn=<MseLossBackward>)\n",
      "tensor(0.0007, device='cuda:0', grad_fn=<MseLossBackward>)\n",
      "tensor(0.0007, device='cuda:0', grad_fn=<MseLossBackward>)\n",
      "tensor(0.0007, device='cuda:0', grad_fn=<MseLossBackward>)\n",
      "tensor(0.0006, device='cuda:0', grad_fn=<MseLossBackward>)\n",
      "tensor(0.0006, device='cuda:0', grad_fn=<MseLossBackward>)\n",
      "tensor(0.0006, device='cuda:0', grad_fn=<MseLossBackward>)\n",
      "tensor(0.0006, device='cuda:0', grad_fn=<MseLossBackward>)\n",
      "tensor(0.0004, device='cuda:0', grad_fn=<MseLossBackward>)\n",
      "tensor(0.0007, device='cuda:0', grad_fn=<MseLossBackward>)\n",
      "tensor(0.0006, device='cuda:0', grad_fn=<MseLossBackward>)\n",
      "tensor(0.0007, device='cuda:0', grad_fn=<MseLossBackward>)\n",
      "tensor(0.0005, device='cuda:0', grad_fn=<MseLossBackward>)\n",
      "tensor(0.0005, device='cuda:0', grad_fn=<MseLossBackward>)\n",
      "tensor(0.0005, device='cuda:0', grad_fn=<MseLossBackward>)\n",
      "tensor(0.0006, device='cuda:0', grad_fn=<MseLossBackward>)\n",
      "tensor(0.0005, device='cuda:0', grad_fn=<MseLossBackward>)\n",
      "tensor(0.0005, device='cuda:0', grad_fn=<MseLossBackward>)\n",
      "tensor(0.0005, device='cuda:0', grad_fn=<MseLossBackward>)\n",
      "tensor(0.0004, device='cuda:0', grad_fn=<MseLossBackward>)\n",
      "tensor(0.0005, device='cuda:0', grad_fn=<MseLossBackward>)\n",
      "tensor(0.0004, device='cuda:0', grad_fn=<MseLossBackward>)\n",
      "tensor(0.0006, device='cuda:0', grad_fn=<MseLossBackward>)\n",
      "tensor(0.0006, device='cuda:0', grad_fn=<MseLossBackward>)\n",
      "tensor(0.0004, device='cuda:0', grad_fn=<MseLossBackward>)\n",
      "tensor(0.0007, device='cuda:0', grad_fn=<MseLossBackward>)\n",
      "tensor(0.0006, device='cuda:0', grad_fn=<MseLossBackward>)\n",
      "tensor(0.0006, device='cuda:0', grad_fn=<MseLossBackward>)\n",
      "tensor(0.0005, device='cuda:0', grad_fn=<MseLossBackward>)\n",
      "tensor(0.0004, device='cuda:0', grad_fn=<MseLossBackward>)\n",
      "tensor(0.0005, device='cuda:0', grad_fn=<MseLossBackward>)\n",
      "tensor(0.0005, device='cuda:0', grad_fn=<MseLossBackward>)\n",
      "tensor(0.0004, device='cuda:0', grad_fn=<MseLossBackward>)\n",
      "tensor(0.0005, device='cuda:0', grad_fn=<MseLossBackward>)\n",
      "tensor(0.0005, device='cuda:0', grad_fn=<MseLossBackward>)\n",
      "tensor(0.0004, device='cuda:0', grad_fn=<MseLossBackward>)\n",
      "tensor(0.0004, device='cuda:0', grad_fn=<MseLossBackward>)\n",
      "tensor(0.0004, device='cuda:0', grad_fn=<MseLossBackward>)\n",
      "tensor(0.0004, device='cuda:0', grad_fn=<MseLossBackward>)\n",
      "tensor(0.0004, device='cuda:0', grad_fn=<MseLossBackward>)\n",
      "tensor(0.0005, device='cuda:0', grad_fn=<MseLossBackward>)\n",
      "tensor(0.0006, device='cuda:0', grad_fn=<MseLossBackward>)\n",
      "tensor(0.0005, device='cuda:0', grad_fn=<MseLossBackward>)\n",
      "tensor(0.0007, device='cuda:0', grad_fn=<MseLossBackward>)\n",
      "tensor(0.0006, device='cuda:0', grad_fn=<MseLossBackward>)\n",
      "tensor(0.0006, device='cuda:0', grad_fn=<MseLossBackward>)\n",
      "tensor(0.0005, device='cuda:0', grad_fn=<MseLossBackward>)\n",
      "tensor(0.0005, device='cuda:0', grad_fn=<MseLossBackward>)\n",
      "tensor(0.0005, device='cuda:0', grad_fn=<MseLossBackward>)\n",
      "tensor(0.0004, device='cuda:0', grad_fn=<MseLossBackward>)\n",
      "tensor(0.0005, device='cuda:0', grad_fn=<MseLossBackward>)\n",
      "tensor(0.0005, device='cuda:0', grad_fn=<MseLossBackward>)\n",
      "tensor(0.0005, device='cuda:0', grad_fn=<MseLossBackward>)\n",
      "tensor(0.0005, device='cuda:0', grad_fn=<MseLossBackward>)\n",
      "tensor(0.0005, device='cuda:0', grad_fn=<MseLossBackward>)\n",
      "tensor(0.0004, device='cuda:0', grad_fn=<MseLossBackward>)\n",
      "tensor(0.0005, device='cuda:0', grad_fn=<MseLossBackward>)\n",
      "tensor(0.0003, device='cuda:0', grad_fn=<MseLossBackward>)\n",
      "tensor(0.0004, device='cuda:0', grad_fn=<MseLossBackward>)\n",
      "tensor(0.0003, device='cuda:0', grad_fn=<MseLossBackward>)\n",
      "tensor(0.0004, device='cuda:0', grad_fn=<MseLossBackward>)\n",
      "tensor(0.0005, device='cuda:0', grad_fn=<MseLossBackward>)\n",
      "tensor(0.0004, device='cuda:0', grad_fn=<MseLossBackward>)\n",
      "tensor(0.0004, device='cuda:0', grad_fn=<MseLossBackward>)\n",
      "tensor(0.0005, device='cuda:0', grad_fn=<MseLossBackward>)\n",
      "tensor(0.0004, device='cuda:0', grad_fn=<MseLossBackward>)\n",
      "tensor(0.0004, device='cuda:0', grad_fn=<MseLossBackward>)\n",
      "tensor(0.0006, device='cuda:0', grad_fn=<MseLossBackward>)\n",
      "tensor(0.0004, device='cuda:0', grad_fn=<MseLossBackward>)\n",
      "tensor(0.0003, device='cuda:0', grad_fn=<MseLossBackward>)\n",
      "tensor(0.0003, device='cuda:0', grad_fn=<MseLossBackward>)\n",
      "tensor(0.0004, device='cuda:0', grad_fn=<MseLossBackward>)\n",
      "tensor(0.0003, device='cuda:0', grad_fn=<MseLossBackward>)\n",
      "tensor(0.0004, device='cuda:0', grad_fn=<MseLossBackward>)\n",
      "tensor(0.0003, device='cuda:0', grad_fn=<MseLossBackward>)\n",
      "tensor(0.0005, device='cuda:0', grad_fn=<MseLossBackward>)\n"
     ]
    }
   ],
   "source": [
    "import torch.optim as optim\n",
    "\n",
    "optimizer = optim.Adam(net.parameters(), lr=0.00001)\n",
    "\n",
    "epochs = 100\n",
    "\n",
    "for epoch in range(epochs):\n",
    "    for data in dataloader:\n",
    "        net.zero_grad()\n",
    "        x = Variable(data).cuda()\n",
    "        output = net(x)\n",
    "        loss = nn.MSELoss()(output, x)\n",
    "        loss.backward()\n",
    "        optimizer.step()\n",
    "    print(loss)"
   ]
  },
  {
   "cell_type": "code",
   "execution_count": 1438,
   "metadata": {
    "scrolled": false
   },
   "outputs": [
    {
     "data": {
      "image/png": "[encoded data removed]",
      "text/plain": [
       "<Figure size 432x288 with 1 Axes>"
      ]
     },
     "metadata": {
      "needs_background": "light"
     },
     "output_type": "display_data"
    },
    {
     "data": {
      "image/png": "[encoded data removed]",
      "text/plain": [
       "<Figure size 432x288 with 1 Axes>"
      ]
     },
     "metadata": {
      "needs_background": "light"
     },
     "output_type": "display_data"
    },
    {
     "data": {
      "text/plain": [
       "tensor([[-33.8204, -38.3922, -40.5138, -55.0965, -30.4725, -41.1640, -40.7616,\n",
       "         -53.8898, -30.4301, -33.6328, -30.7710, -43.8495, -28.5497, -28.5544,\n",
       "         -33.2894, -43.3988]], device='cuda:0', grad_fn=<AddmmBackward>)"
      ]
     },
     "execution_count": 1438,
     "metadata": {},
     "output_type": "execute_result"
    }
   ],
   "source": [
    "img = dataset[400]\n",
    "x = Variable(img).cuda()\n",
    "plt.imshow(img.view(64, 64))\n",
    "plt.show()\n",
    "output = net(x.view(-1, 1, 64, 64))\n",
    "plt.imshow(output.view(64, 64).cpu().detach().numpy())\n",
    "plt.show()\n",
    "net.encode(x.view(-1, 1, 64, 64))"
   ]
  },
  {
   "cell_type": "code",
   "execution_count": 1446,
   "metadata": {},
   "outputs": [],
   "source": [
    "#torch.save(net, './conv_autoencoder_save')"
   ]
  },
  {
   "cell_type": "code",
   "execution_count": 29,
   "metadata": {},
   "outputs": [],
   "source": [
    "net = torch.load('./conv_autoencoder_save')"
   ]
  },
  {
   "cell_type": "code",
   "execution_count": 1447,
   "metadata": {},
   "outputs": [
    {
     "data": {
      "image/png": "[encoded data removed]",
      "text/plain": [
       "<Figure size 432x288 with 1 Axes>"
      ]
     },
     "metadata": {
      "needs_background": "light"
     },
     "output_type": "display_data"
    }
   ],
   "source": [
    "code = torch.tensor([-33.8204, -40.3922, -40.5138, -55.0965, -30.4725, -41.1640, -40.7616,\n",
    "         -53.8898, -30.4301, -33.6328, -30.7710, -43.8495, -60, -28.5544,\n",
    "         -33.2894, -43.3988]).cuda()\n",
    "output = net.decode(code)\n",
    "plt.imshow(output.view(64, 64).cpu().detach().numpy())\n",
    "plt.show()"
   ]
  },
  {
   "cell_type": "code",
   "execution_count": null,
   "metadata": {},
   "outputs": [],
   "source": []
  }
 ],
 "metadata": {
  "kernelspec": {
   "display_name": "Python 3",
   "language": "python",
   "name": "python3"
  },
  "language_info": {
   "codemirror_mode": {
    "name": "ipython",
    "version": 3
   },
   "file_extension": ".py",
   "mimetype": "text/x-python",
   "name": "python",
   "nbconvert_exporter": "python",
   "pygments_lexer": "ipython3",
   "version": "3.7.4"
  }
 },
 "nbformat": 4,
 "nbformat_minor": 4
}
