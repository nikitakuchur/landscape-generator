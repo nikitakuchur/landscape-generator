{
 "cells": [
  {
   "cell_type": "code",
   "execution_count": 2,
   "metadata": {},
   "outputs": [],
   "source": [
    "import torch\n",
    "import torchvision\n",
    "from torch import nn\n",
    "import torch.nn.functional as F\n",
    "from torch.autograd import Variable\n",
    "from torchvision import transforms\n",
    "from torch.utils.data import Dataset, DataLoader\n",
    "\n",
    "from PIL import Image\n",
    "import os"
   ]
  },
  {
   "cell_type": "code",
   "execution_count": 3,
   "metadata": {},
   "outputs": [],
   "source": [
    "class ImagesDataset(Dataset):\n",
    "    \n",
    "    def __init__(self, root_dir):\n",
    "        self.root_dir = root_dir\n",
    "        self.img_names = os.listdir(root_dir)\n",
    "        self.data_transforms = transforms.Compose([\n",
    "            transforms.RandomHorizontalFlip(),\n",
    "            transforms.RandomVerticalFlip(),\n",
    "            transforms.ToTensor()])\n",
    "    \n",
    "        \n",
    "    def __getitem__(self, index):\n",
    "        img = Image.open(self.root_dir + '/' + self.img_names[index]).convert('L')\n",
    "        item = self.data_transforms(img)\n",
    "        img.close()\n",
    "        return item.view(1, 64, 64)\n",
    "\n",
    "    def __len__(self):\n",
    "        return len(self.img_names)"
   ]
  },
  {
   "cell_type": "code",
   "execution_count": 5,
   "metadata": {},
   "outputs": [
    {
     "data": {
      "image/png": "[encoded data removed]",
      "text/plain": [
       "<Figure size 432x288 with 1 Axes>"
      ]
     },
     "metadata": {
      "needs_background": "light"
     },
     "output_type": "display_data"
    }
   ],
   "source": [
    "import matplotlib.pyplot as plt\n",
    "\n",
    "dataset = ImagesDataset('./data')\n",
    "plt.imshow(dataset[400].view(64, 64))\n",
    "plt.show()"
   ]
  },
  {
   "cell_type": "code",
   "execution_count": 6,
   "metadata": {},
   "outputs": [],
   "source": [
    "dataloader = DataLoader(dataset, batch_size=100, shuffle=True)"
   ]
  },
  {
   "cell_type": "code",
   "execution_count": 7,
   "metadata": {},
   "outputs": [],
   "source": [
    "def double_cnn(in_n, out_n):\n",
    "    return nn.Sequential(\n",
    "        nn.Conv2d(in_n, out_n, 3, padding=1),       \n",
    "        nn.ReLU(),        \n",
    "        nn.Conv2d(out_n, out_n, 3, padding=1)\n",
    "    )\n",
    "\n",
    "class VAE(nn.Module):\n",
    "    def __init__(self):\n",
    "        super(VAE, self).__init__()\n",
    "        \n",
    "        # Encoder specification\n",
    "        self.enc_cnn_1 = double_cnn(1, 32)\n",
    "        self.enc_cnn_2 = double_cnn(32, 64)      \n",
    "        self.enc_cnn_3 = double_cnn(64, 128)\n",
    "        self.enc_cnn_4 = double_cnn(128, 256)\n",
    "        \n",
    "        self.enc_linear_1_1 = nn.Linear(4096, 64)\n",
    "        self.enc_linear_1_2 = nn.Linear(4096, 64)\n",
    "        \n",
    "        # Decoder specification\n",
    "        self.dec_linear_1 = nn.Linear(64, 4096)\n",
    "        \n",
    "        self.dec_cnn_1 = double_cnn(256, 128)\n",
    "        self.dec_cnn_2 = double_cnn(128, 64)\n",
    "        self.dec_cnn_3 = double_cnn(64, 32)\n",
    "        self.dec_cnn_4 = double_cnn(32, 1)\n",
    "        \n",
    "    def encode(self, data):\n",
    "        x = self.enc_cnn_1(data)\n",
    "        x = F.relu(F.max_pool2d(x, 2))\n",
    "        \n",
    "        x = self.enc_cnn_2(x)\n",
    "        x = F.relu(F.max_pool2d(x, 2))\n",
    "        \n",
    "        x = self.enc_cnn_3(x)\n",
    "        x = F.relu(F.max_pool2d(x, 2))\n",
    "        \n",
    "        x = self.enc_cnn_4(x)\n",
    "        x = F.relu(F.max_pool2d(x, 2))\n",
    "        \n",
    "        x = x.view(x.size(0), -1)\n",
    "        return self.enc_linear_1_1(x), self.enc_linear_1_2(x)\n",
    "    \n",
    "    def reparametrize(self, mu, logvar):\n",
    "        std = logvar.mul(0.5).exp_()\n",
    "        esp = torch.randn(*mu.size()).cuda()\n",
    "        return mu + std * esp\n",
    "        \n",
    "    def decode(self, code):\n",
    "        out = F.relu(self.dec_linear_1(code))\n",
    "        out = out.view(out.size(0), 256, 4, 4)\n",
    "        \n",
    "        out = F.interpolate(out, 8)\n",
    "        out = F.relu(self.dec_cnn_1(out))\n",
    "        \n",
    "        out = F.interpolate(out, 16)\n",
    "        out = F.relu(self.dec_cnn_2(out))\n",
    "        \n",
    "        out = F.interpolate(out, 32)\n",
    "        out = F.relu(self.dec_cnn_3(out))\n",
    "        \n",
    "        out = F.interpolate(out, 64)\n",
    "        out = torch.sigmoid(self.dec_cnn_4(out))\n",
    "        return out\n",
    "        \n",
    "    def forward(self, data):\n",
    "        mu, logvar = self.encode(data)\n",
    "        code = self.reparametrize(mu, logvar)\n",
    "        out = self.decode(code)\n",
    "        return out, mu, logvar"
   ]
  },
  {
   "cell_type": "code",
   "execution_count": 8,
   "metadata": {},
   "outputs": [],
   "source": [
    "vae = VAE().cuda()"
   ]
  },
  {
   "cell_type": "code",
   "execution_count": 9,
   "metadata": {},
   "outputs": [
    {
     "data": {
      "image/png": "[encoded data removed]",
      "text/plain": [
       "<Figure size 432x288 with 1 Axes>"
      ]
     },
     "metadata": {
      "needs_background": "light"
     },
     "output_type": "display_data"
    }
   ],
   "source": [
    "x = dataset[400].cuda()\n",
    "out, _, _ = vae(x.view(1, 1, 64, 64))\n",
    "plt.imshow(out.view(64, 64).cpu().detach().numpy())\n",
    "plt.show()"
   ]
  },
  {
   "cell_type": "code",
   "execution_count": 180,
   "metadata": {
    "scrolled": true
   },
   "outputs": [
    {
     "name": "stdout",
     "output_type": "stream",
     "text": [
      "epoch=1, loss=tensor(204.3071, device='cuda:0', grad_fn=<AddBackward0>)\n",
      "epoch=2, loss=tensor(101.6556, device='cuda:0', grad_fn=<AddBackward0>)\n",
      "epoch=3, loss=tensor(86.5924, device='cuda:0', grad_fn=<AddBackward0>)\n",
      "epoch=4, loss=tensor(39.2578, device='cuda:0', grad_fn=<AddBackward0>)\n",
      "epoch=5, loss=tensor(44.3239, device='cuda:0', grad_fn=<AddBackward0>)\n",
      "epoch=6, loss=tensor(61.5136, device='cuda:0', grad_fn=<AddBackward0>)\n",
      "epoch=7, loss=tensor(35.7183, device='cuda:0', grad_fn=<AddBackward0>)\n",
      "epoch=8, loss=tensor(55.6938, device='cuda:0', grad_fn=<AddBackward0>)\n",
      "epoch=9, loss=tensor(131.0282, device='cuda:0', grad_fn=<AddBackward0>)\n",
      "epoch=10, loss=tensor(53.2788, device='cuda:0', grad_fn=<AddBackward0>)\n",
      "epoch=11, loss=tensor(55.3861, device='cuda:0', grad_fn=<AddBackward0>)\n",
      "epoch=12, loss=tensor(136.6671, device='cuda:0', grad_fn=<AddBackward0>)\n",
      "epoch=13, loss=tensor(68.2166, device='cuda:0', grad_fn=<AddBackward0>)\n",
      "epoch=14, loss=tensor(171.7714, device='cuda:0', grad_fn=<AddBackward0>)\n",
      "epoch=15, loss=tensor(76.2675, device='cuda:0', grad_fn=<AddBackward0>)\n",
      "epoch=16, loss=tensor(34.1850, device='cuda:0', grad_fn=<AddBackward0>)\n",
      "epoch=17, loss=tensor(38.3904, device='cuda:0', grad_fn=<AddBackward0>)\n",
      "epoch=18, loss=tensor(49.5960, device='cuda:0', grad_fn=<AddBackward0>)\n",
      "epoch=19, loss=tensor(47.2116, device='cuda:0', grad_fn=<AddBackward0>)\n",
      "epoch=20, loss=tensor(35.2328, device='cuda:0', grad_fn=<AddBackward0>)\n",
      "epoch=21, loss=tensor(42.5284, device='cuda:0', grad_fn=<AddBackward0>)\n",
      "epoch=22, loss=tensor(37.2838, device='cuda:0', grad_fn=<AddBackward0>)\n",
      "epoch=23, loss=tensor(41.7478, device='cuda:0', grad_fn=<AddBackward0>)\n",
      "epoch=24, loss=tensor(31.6229, device='cuda:0', grad_fn=<AddBackward0>)\n",
      "epoch=25, loss=tensor(27.4568, device='cuda:0', grad_fn=<AddBackward0>)\n",
      "epoch=26, loss=tensor(31.2807, device='cuda:0', grad_fn=<AddBackward0>)\n",
      "epoch=27, loss=tensor(61.3231, device='cuda:0', grad_fn=<AddBackward0>)\n",
      "epoch=28, loss=tensor(40.9322, device='cuda:0', grad_fn=<AddBackward0>)\n",
      "epoch=29, loss=tensor(115.3021, device='cuda:0', grad_fn=<AddBackward0>)\n",
      "epoch=30, loss=tensor(49.0308, device='cuda:0', grad_fn=<AddBackward0>)\n",
      "epoch=31, loss=tensor(33.0744, device='cuda:0', grad_fn=<AddBackward0>)\n",
      "epoch=32, loss=tensor(39.1780, device='cuda:0', grad_fn=<AddBackward0>)\n",
      "epoch=33, loss=tensor(31.2711, device='cuda:0', grad_fn=<AddBackward0>)\n",
      "epoch=34, loss=tensor(31.5055, device='cuda:0', grad_fn=<AddBackward0>)\n",
      "epoch=35, loss=tensor(69.8621, device='cuda:0', grad_fn=<AddBackward0>)\n",
      "epoch=36, loss=tensor(36.5549, device='cuda:0', grad_fn=<AddBackward0>)\n",
      "epoch=37, loss=tensor(62.4291, device='cuda:0', grad_fn=<AddBackward0>)\n",
      "epoch=38, loss=tensor(39.0591, device='cuda:0', grad_fn=<AddBackward0>)\n",
      "epoch=39, loss=tensor(36.0235, device='cuda:0', grad_fn=<AddBackward0>)\n",
      "epoch=40, loss=tensor(34.1964, device='cuda:0', grad_fn=<AddBackward0>)\n",
      "epoch=41, loss=tensor(32.9987, device='cuda:0', grad_fn=<AddBackward0>)\n",
      "epoch=42, loss=tensor(43.4739, device='cuda:0', grad_fn=<AddBackward0>)\n",
      "epoch=43, loss=tensor(44.6182, device='cuda:0', grad_fn=<AddBackward0>)\n",
      "epoch=44, loss=tensor(34.3104, device='cuda:0', grad_fn=<AddBackward0>)\n",
      "epoch=45, loss=tensor(86.1246, device='cuda:0', grad_fn=<AddBackward0>)\n",
      "epoch=46, loss=tensor(55.3266, device='cuda:0', grad_fn=<AddBackward0>)\n",
      "epoch=47, loss=tensor(39.0487, device='cuda:0', grad_fn=<AddBackward0>)\n",
      "epoch=48, loss=tensor(98.3919, device='cuda:0', grad_fn=<AddBackward0>)\n",
      "epoch=49, loss=tensor(41.8754, device='cuda:0', grad_fn=<AddBackward0>)\n",
      "epoch=50, loss=tensor(40.0159, device='cuda:0', grad_fn=<AddBackward0>)\n",
      "epoch=51, loss=tensor(25.0018, device='cuda:0', grad_fn=<AddBackward0>)\n",
      "epoch=52, loss=tensor(29.5206, device='cuda:0', grad_fn=<AddBackward0>)\n",
      "epoch=53, loss=tensor(39.6892, device='cuda:0', grad_fn=<AddBackward0>)\n",
      "epoch=54, loss=tensor(39.9939, device='cuda:0', grad_fn=<AddBackward0>)\n",
      "epoch=55, loss=tensor(21.2968, device='cuda:0', grad_fn=<AddBackward0>)\n",
      "epoch=56, loss=tensor(29.6679, device='cuda:0', grad_fn=<AddBackward0>)\n",
      "epoch=57, loss=tensor(23.6333, device='cuda:0', grad_fn=<AddBackward0>)\n",
      "epoch=58, loss=tensor(25.3286, device='cuda:0', grad_fn=<AddBackward0>)\n",
      "epoch=59, loss=tensor(36.4735, device='cuda:0', grad_fn=<AddBackward0>)\n",
      "epoch=60, loss=tensor(26.1828, device='cuda:0', grad_fn=<AddBackward0>)\n",
      "epoch=61, loss=tensor(36.9631, device='cuda:0', grad_fn=<AddBackward0>)\n",
      "epoch=62, loss=tensor(36.3413, device='cuda:0', grad_fn=<AddBackward0>)\n",
      "epoch=63, loss=tensor(38.0584, device='cuda:0', grad_fn=<AddBackward0>)\n",
      "epoch=64, loss=tensor(27.8774, device='cuda:0', grad_fn=<AddBackward0>)\n",
      "epoch=65, loss=tensor(27.5154, device='cuda:0', grad_fn=<AddBackward0>)\n",
      "epoch=66, loss=tensor(37.1207, device='cuda:0', grad_fn=<AddBackward0>)\n",
      "epoch=67, loss=tensor(23.2468, device='cuda:0', grad_fn=<AddBackward0>)\n",
      "epoch=68, loss=tensor(39.2247, device='cuda:0', grad_fn=<AddBackward0>)\n",
      "epoch=69, loss=tensor(26.4498, device='cuda:0', grad_fn=<AddBackward0>)\n",
      "epoch=70, loss=tensor(37.9770, device='cuda:0', grad_fn=<AddBackward0>)\n",
      "epoch=71, loss=tensor(36.8990, device='cuda:0', grad_fn=<AddBackward0>)\n",
      "epoch=72, loss=tensor(29.6682, device='cuda:0', grad_fn=<AddBackward0>)\n",
      "epoch=73, loss=tensor(24.2899, device='cuda:0', grad_fn=<AddBackward0>)\n",
      "epoch=74, loss=tensor(27.2894, device='cuda:0', grad_fn=<AddBackward0>)\n",
      "epoch=75, loss=tensor(24.7410, device='cuda:0', grad_fn=<AddBackward0>)\n",
      "epoch=76, loss=tensor(30.2210, device='cuda:0', grad_fn=<AddBackward0>)\n",
      "epoch=77, loss=tensor(28.8474, device='cuda:0', grad_fn=<AddBackward0>)\n",
      "epoch=78, loss=tensor(24.7104, device='cuda:0', grad_fn=<AddBackward0>)\n",
      "epoch=79, loss=tensor(31.3509, device='cuda:0', grad_fn=<AddBackward0>)\n",
      "epoch=80, loss=tensor(38.3420, device='cuda:0', grad_fn=<AddBackward0>)\n",
      "epoch=81, loss=tensor(28.8636, device='cuda:0', grad_fn=<AddBackward0>)\n",
      "epoch=82, loss=tensor(37.9622, device='cuda:0', grad_fn=<AddBackward0>)\n",
      "epoch=83, loss=tensor(34.1935, device='cuda:0', grad_fn=<AddBackward0>)\n",
      "epoch=84, loss=tensor(26.1692, device='cuda:0', grad_fn=<AddBackward0>)\n",
      "epoch=85, loss=tensor(29.7687, device='cuda:0', grad_fn=<AddBackward0>)\n",
      "epoch=86, loss=tensor(38.7350, device='cuda:0', grad_fn=<AddBackward0>)\n",
      "epoch=87, loss=tensor(32.4062, device='cuda:0', grad_fn=<AddBackward0>)\n",
      "epoch=88, loss=tensor(22.4401, device='cuda:0', grad_fn=<AddBackward0>)\n",
      "epoch=89, loss=tensor(20.1305, device='cuda:0', grad_fn=<AddBackward0>)\n",
      "epoch=90, loss=tensor(32.9894, device='cuda:0', grad_fn=<AddBackward0>)\n",
      "epoch=91, loss=tensor(18.6090, device='cuda:0', grad_fn=<AddBackward0>)\n",
      "epoch=92, loss=tensor(29.8351, device='cuda:0', grad_fn=<AddBackward0>)\n",
      "epoch=93, loss=tensor(30.0144, device='cuda:0', grad_fn=<AddBackward0>)\n",
      "epoch=94, loss=tensor(32.2630, device='cuda:0', grad_fn=<AddBackward0>)\n",
      "epoch=95, loss=tensor(23.3475, device='cuda:0', grad_fn=<AddBackward0>)\n",
      "epoch=96, loss=tensor(31.5223, device='cuda:0', grad_fn=<AddBackward0>)\n",
      "epoch=97, loss=tensor(28.2929, device='cuda:0', grad_fn=<AddBackward0>)\n",
      "epoch=98, loss=tensor(38.2360, device='cuda:0', grad_fn=<AddBackward0>)\n",
      "epoch=99, loss=tensor(44.5603, device='cuda:0', grad_fn=<AddBackward0>)\n",
      "epoch=100, loss=tensor(39.7743, device='cuda:0', grad_fn=<AddBackward0>)\n"
     ]
    }
   ],
   "source": [
    "import torch.optim as optim\n",
    "\n",
    "def loss_function(recon_x, x, mu, logvar):\n",
    "    BCE = nn.MSELoss(reduction='sum')(recon_x, x)\n",
    "    KLD = -0.5 * torch.mean(1 + logvar - mu.pow(2) - logvar.exp())\n",
    "    return BCE + KLD\n",
    "\n",
    "optimizer = optim.Adam(vae.parameters(), lr=0.001)\n",
    "\n",
    "epochs = 100\n",
    "\n",
    "for epoch in range(epochs):\n",
    "    vae.train()\n",
    "    for data in dataloader:\n",
    "        optimizer.zero_grad()\n",
    "        x = data.cuda()\n",
    "        out, mu, logvar = vae(x)\n",
    "        loss = loss_function(out, x, mu, logvar)\n",
    "        loss.backward()\n",
    "        optimizer.step()\n",
    "    print('epoch=' + str(epoch + 1) + ', loss=' + str(loss))"
   ]
  },
  {
   "cell_type": "code",
   "execution_count": 12,
   "metadata": {},
   "outputs": [],
   "source": [
    "torch.cuda.empty_cache()"
   ]
  },
  {
   "cell_type": "code",
   "execution_count": 183,
   "metadata": {},
   "outputs": [
    {
     "data": {
      "image/png": "[encoded data removed]",
      "text/plain": [
       "<Figure size 432x288 with 1 Axes>"
      ]
     },
     "metadata": {
      "needs_background": "light"
     },
     "output_type": "display_data"
    },
    {
     "data": {
      "image/png": "[encoded data removed]",
      "text/plain": [
       "<Figure size 432x288 with 1 Axes>"
      ]
     },
     "metadata": {
      "needs_background": "light"
     },
     "output_type": "display_data"
    }
   ],
   "source": [
    "x = dataset[900].cuda()\n",
    "plt.imshow(x.view(64, 64).cpu())\n",
    "plt.show()\n",
    "out, _, _ = vae(x.view(1, 1, 64, 64))\n",
    "plt.imshow(out.view(64, 64).cpu().detach().numpy())\n",
    "plt.show()"
   ]
  },
  {
   "cell_type": "code",
   "execution_count": 186,
   "metadata": {},
   "outputs": [],
   "source": [
    "#torch.save(vae.state_dict(), './variational_autoencoder_save')"
   ]
  },
  {
   "cell_type": "code",
   "execution_count": 10,
   "metadata": {},
   "outputs": [
    {
     "data": {
      "text/plain": [
       "<All keys matched successfully>"
      ]
     },
     "execution_count": 10,
     "metadata": {},
     "output_type": "execute_result"
    }
   ],
   "source": [
    "vae.load_state_dict(torch.load('./variational_autoencoder_save'))"
   ]
  },
  {
   "cell_type": "code",
   "execution_count": 190,
   "metadata": {},
   "outputs": [
    {
     "ename": "IndexError",
     "evalue": "Dimension out of range (expected to be in range of [-1, 0], but got 1)",
     "output_type": "error",
     "traceback": [
      "\u001b[1;31m---------------------------------------------------------------------------\u001b[0m",
      "\u001b[1;31mIndexError\u001b[0m                                Traceback (most recent call last)",
      "\u001b[1;32m<ipython-input-190-02f128d7b9f6>\u001b[0m in \u001b[0;36m<module>\u001b[1;34m\u001b[0m\n\u001b[0;32m      6\u001b[0m     \u001b[0mcode\u001b[0m \u001b[1;33m=\u001b[0m \u001b[0mvae\u001b[0m\u001b[1;33m.\u001b[0m\u001b[0mreparametrize\u001b[0m\u001b[1;33m(\u001b[0m\u001b[0mmu\u001b[0m\u001b[1;33m,\u001b[0m \u001b[0mlogvar\u001b[0m\u001b[1;33m)\u001b[0m\u001b[1;33m\u001b[0m\u001b[1;33m\u001b[0m\u001b[0m\n\u001b[0;32m      7\u001b[0m     \u001b[0mxs\u001b[0m\u001b[1;33m.\u001b[0m\u001b[0mappend\u001b[0m\u001b[1;33m(\u001b[0m\u001b[0mcode\u001b[0m\u001b[1;33m.\u001b[0m\u001b[0mcpu\u001b[0m\u001b[1;33m(\u001b[0m\u001b[1;33m)\u001b[0m\u001b[1;33m.\u001b[0m\u001b[0mdetach\u001b[0m\u001b[1;33m(\u001b[0m\u001b[1;33m)\u001b[0m\u001b[1;33m[\u001b[0m\u001b[1;36m0\u001b[0m\u001b[1;33m]\u001b[0m\u001b[1;33m)\u001b[0m\u001b[1;33m\u001b[0m\u001b[1;33m\u001b[0m\u001b[0m\n\u001b[1;32m----> 8\u001b[1;33m \u001b[0mcodes\u001b[0m \u001b[1;33m=\u001b[0m \u001b[0mtorch\u001b[0m\u001b[1;33m.\u001b[0m\u001b[0mcat\u001b[0m\u001b[1;33m(\u001b[0m\u001b[0mxs\u001b[0m\u001b[1;33m,\u001b[0m \u001b[0mdim\u001b[0m\u001b[1;33m=\u001b[0m\u001b[1;36m1\u001b[0m\u001b[1;33m)\u001b[0m\u001b[1;33m\u001b[0m\u001b[1;33m\u001b[0m\u001b[0m\n\u001b[0m",
      "\u001b[1;31mIndexError\u001b[0m: Dimension out of range (expected to be in range of [-1, 0], but got 1)"
     ]
    }
   ],
   "source": [
    "import numpy as np\n",
    "\n",
    "xs = []\n",
    "for data in dataset:\n",
    "    mu, logvar = vae.encode(data.cuda().view(1, 1, 64, 64))\n",
    "    code = vae.reparametrize(mu, logvar)\n",
    "    xs.append(code.cpu().detach()[0])"
   ]
  },
  {
   "cell_type": "code",
   "execution_count": 209,
   "metadata": {},
   "outputs": [],
   "source": [
    "codes = torch.cat(xs).view(-1, 64)"
   ]
  },
  {
   "cell_type": "code",
   "execution_count": 212,
   "metadata": {},
   "outputs": [
    {
     "data": {
      "text/plain": [
       "tensor([ 0.3008, -0.4940,  0.7297,  1.0103,  0.4057,  1.2340,  0.2577,  1.1241,\n",
       "        -0.0917,  0.3141,  0.1089,  0.0908,  0.2659, -0.8536, -0.9944, -0.2474,\n",
       "        -0.0059, -0.2933,  0.3759,  0.9043,  0.3470,  1.3212,  0.4744,  0.5483,\n",
       "        -0.3059, -0.7669,  0.6410,  0.1799,  0.0333,  0.3700,  0.2597,  0.2039,\n",
       "         0.0562, -0.1416, -0.7374, -0.0052, -0.0398, -0.1495, -0.0627, -0.1182,\n",
       "         0.3071, -0.2948,  0.1651,  0.4132,  0.3397, -0.7366,  0.1424, -0.2454,\n",
       "        -0.7041, -0.0200, -0.1548, -0.5291,  0.5452, -0.3474,  0.0195, -0.7150,\n",
       "         0.4013,  0.6835,  0.2653, -0.3120,  0.3496,  0.3146, -0.0826,  0.0161])"
      ]
     },
     "execution_count": 212,
     "metadata": {},
     "output_type": "execute_result"
    }
   ],
   "source": [
    "codes[2]"
   ]
  },
  {
   "cell_type": "code",
   "execution_count": 213,
   "metadata": {},
   "outputs": [],
   "source": [
    "mean = codes.mean(axis=0)\n",
    "std = codes.std(axis=0)"
   ]
  },
  {
   "cell_type": "code",
   "execution_count": 220,
   "metadata": {},
   "outputs": [
    {
     "data": {
      "text/plain": [
       "tensor([ 5.3491e-02, -4.1797e-02,  2.0019e-01,  3.4256e-02,  4.6165e-02,\n",
       "        -3.1788e+00,  1.6638e-01, -2.2471e+00, -2.1720e-03, -2.5511e-02,\n",
       "         1.1032e-02,  4.9668e-03,  2.0659e-02, -9.2332e-03,  8.2505e-02,\n",
       "        -1.6698e-02,  2.1964e-02, -1.7276e-01,  1.6489e-02,  4.4891e-02,\n",
       "         6.6504e-02, -3.5978e-02,  6.9458e-03,  8.1555e-04, -4.1043e-02,\n",
       "        -8.2029e-02,  2.4235e-02,  3.8675e-02, -1.0925e-02,  4.7908e-02,\n",
       "         2.4383e-02, -8.1812e-02, -2.2655e-02,  1.1878e-02,  3.4206e-02,\n",
       "         1.4996e-02,  1.5901e-02, -3.4655e-01, -1.6591e-03, -1.0020e-02,\n",
       "        -4.7468e-02, -1.4901e-01,  3.0627e-02, -1.2700e-02,  8.1426e-02,\n",
       "        -7.2822e-02,  6.3681e-04,  1.8814e-02,  6.5370e-02, -9.3683e-02,\n",
       "        -4.3408e-02, -1.1025e-02, -1.2210e-02,  7.9937e-03, -3.1880e-02,\n",
       "        -5.5523e-02, -5.0008e-02, -1.3038e-02, -1.4226e-02,  6.1845e-02,\n",
       "         8.2444e-02, -9.6248e-03,  5.9602e-02,  4.5262e-02])"
      ]
     },
     "execution_count": 220,
     "metadata": {},
     "output_type": "execute_result"
    }
   ],
   "source": [
    "mean"
   ]
  },
  {
   "cell_type": "code",
   "execution_count": 221,
   "metadata": {},
   "outputs": [
    {
     "data": {
      "text/plain": [
       "tensor([0.2984, 0.3506, 0.3693, 0.5137, 0.3491, 3.7725, 0.3711, 2.8414, 0.2529,\n",
       "        0.2835, 0.2953, 0.2749, 0.4288, 0.6208, 0.3503, 0.2785, 0.2594, 0.2946,\n",
       "        0.2585, 0.3094, 0.3196, 0.3663, 0.2912, 0.3272, 0.2912, 0.3430, 0.2954,\n",
       "        0.2934, 0.2562, 0.2644, 0.2702, 0.4676, 0.3246, 0.5635, 0.2836, 0.2651,\n",
       "        0.5265, 0.4200, 0.2670, 0.2896, 0.4032, 0.3346, 0.2620, 0.3604, 0.4404,\n",
       "        0.4595, 0.3825, 0.2604, 0.3004, 0.3305, 0.2865, 0.3248, 0.3152, 0.3421,\n",
       "        0.3024, 0.3334, 0.3733, 0.3538, 0.2586, 0.2957, 0.3297, 0.2595, 0.3100,\n",
       "        0.3283])"
      ]
     },
     "execution_count": 221,
     "metadata": {},
     "output_type": "execute_result"
    }
   ],
   "source": [
    "std"
   ]
  },
  {
   "cell_type": "code",
   "execution_count": 278,
   "metadata": {
    "scrolled": false
   },
   "outputs": [
    {
     "data": {
      "image/png": "[encoded data removed]",
      "text/plain": [
       "<Figure size 432x288 with 1 Axes>"
      ]
     },
     "metadata": {
      "needs_background": "light"
     },
     "output_type": "display_data"
    }
   ],
   "source": [
    "# Generator\n",
    "code = torch.FloatTensor(1, 64).normal_()\n",
    "code = mean + std * code\n",
    "\n",
    "out = vae.decode(code.cuda())\n",
    "plt.imshow(out.view(64, 64).cpu().detach().numpy())\n",
    "plt.show()"
   ]
  },
  {
   "cell_type": "code",
   "execution_count": null,
   "metadata": {},
   "outputs": [],
   "source": []
  }
 ],
 "metadata": {
  "kernelspec": {
   "display_name": "Python 3",
   "language": "python",
   "name": "python3"
  },
  "language_info": {
   "codemirror_mode": {
    "name": "ipython",
    "version": 3
   },
   "file_extension": ".py",
   "mimetype": "text/x-python",
   "name": "python",
   "nbconvert_exporter": "python",
   "pygments_lexer": "ipython3",
   "version": "3.7.4"
  }
 },
 "nbformat": 4,
 "nbformat_minor": 4
}
