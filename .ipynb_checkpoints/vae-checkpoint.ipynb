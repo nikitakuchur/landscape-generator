{
 "cells": [
  {
   "cell_type": "code",
   "execution_count": 1309,
   "metadata": {},
   "outputs": [],
   "source": [
    "import torch\n",
    "import torchvision\n",
    "from torch import nn\n",
    "import torch.nn.functional as F\n",
    "from torchvision import transforms\n",
    "from torch.utils.data import Dataset, DataLoader\n",
    "\n",
    "from PIL import Image\n",
    "import os"
   ]
  },
  {
   "cell_type": "code",
   "execution_count": 2054,
   "metadata": {},
   "outputs": [],
   "source": [
    "class ImagesDataset(Dataset):\n",
    "    \n",
    "    def __init__(self, root_dir):\n",
    "        self.root_dir = root_dir\n",
    "        self.img_names = os.listdir(root_dir)\n",
    "        self.data_transforms = transforms.Compose([\n",
    "            transforms.RandomHorizontalFlip(),\n",
    "            transforms.RandomVerticalFlip(),\n",
    "            transforms.ToTensor()])\n",
    "        \n",
    "    def __getitem__(self, index):\n",
    "        img = Image.open(self.root_dir + '/' + self.img_names[index]).convert('L')\n",
    "        item = self.data_transforms(img)\n",
    "        img.close()\n",
    "        min = item.min()\n",
    "        max = item.max()\n",
    "        if min != max:\n",
    "            item = (item - min) / (max - min)\n",
    "        return item.view(1, 64, 64)\n",
    "\n",
    "    def __len__(self):\n",
    "        return len(self.img_names)"
   ]
  },
  {
   "cell_type": "code",
   "execution_count": 2055,
   "metadata": {},
   "outputs": [
    {
     "data": {
      "image/png": "[encoded data removed]",
      "text/plain": [
       "<Figure size 432x288 with 2 Axes>"
      ]
     },
     "metadata": {
      "needs_background": "light"
     },
     "output_type": "display_data"
    }
   ],
   "source": [
    "import matplotlib.pyplot as plt\n",
    "\n",
    "dataset = ImagesDataset('./data')\n",
    "p = plt.imshow(dataset[16].view(64, 64))\n",
    "plt.colorbar(p)\n",
    "plt.show()"
   ]
  },
  {
   "cell_type": "code",
   "execution_count": 2057,
   "metadata": {},
   "outputs": [],
   "source": [
    "batch_size = 100\n",
    "dataloader = DataLoader(dataset, batch_size=batch_size, shuffle=True)"
   ]
  },
  {
   "cell_type": "code",
   "execution_count": 2747,
   "metadata": {},
   "outputs": [],
   "source": [
    "def double_cnn(in_n, out_n):\n",
    "    return nn.Sequential(\n",
    "        nn.Conv2d(in_n, out_n, kernel_size=3, padding=1),\n",
    "        nn.LeakyReLU(),\n",
    "        nn.Conv2d(out_n, out_n, kernel_size=3, padding=1)\n",
    "    )\n",
    "\n",
    "class VAE(nn.Module):\n",
    "    def __init__(self):\n",
    "        super(VAE, self).__init__()\n",
    "        \n",
    "        # Encoder specification\n",
    "        self.enc_cnn_1 = double_cnn(1, 32)\n",
    "        self.enc_cnn_2 = double_cnn(32, 64) \n",
    "        self.enc_cnn_3 = double_cnn(64, 128)\n",
    "        self.enc_cnn_4 = double_cnn(128, 256)\n",
    "        \n",
    "        self.enc_linear_1_1 = nn.Linear(4096, 256)\n",
    "        self.enc_linear_1_2 = nn.Linear(4096, 256)\n",
    "        \n",
    "        # Decoder specification\n",
    "        self.dec_linear_1 = nn.Linear(256, 4096)\n",
    "        \n",
    "        self.dec_cnn_1 = double_cnn(256, 128)\n",
    "        self.dec_cnn_2 = double_cnn(128, 64)\n",
    "        self.dec_cnn_3 = double_cnn(64, 32)\n",
    "        self.dec_cnn_4 = double_cnn(32, 1)\n",
    "        \n",
    "    def encode(self, data):\n",
    "        x = self.enc_cnn_1(data)\n",
    "        x = F.leaky_relu(F.max_pool2d(x, 2))\n",
    "        \n",
    "        x = self.enc_cnn_2(x)\n",
    "        x = F.leaky_relu(F.max_pool2d(x, 2))\n",
    "        \n",
    "        x = self.enc_cnn_3(x)\n",
    "        x = F.leaky_relu(F.max_pool2d(x, 2))\n",
    "        \n",
    "        x = self.enc_cnn_4(x)\n",
    "        x = F.leaky_relu(F.max_pool2d(x, 2))\n",
    "        \n",
    "        x = x.view(x.size(0), -1)\n",
    "        return self.enc_linear_1_1(x), self.enc_linear_1_2(x)\n",
    "    \n",
    "    def reparametrize(self, mu, logvar):\n",
    "        std = logvar.mul(0.5).exp_()\n",
    "        esp = torch.randn(mu.size()).cuda()\n",
    "        return mu + std * esp\n",
    "        \n",
    "    def decode(self, code):\n",
    "        out = F.leaky_relu(self.dec_linear_1(code))\n",
    "        out = out.view(out.size(0), 256, 4, 4)\n",
    "        \n",
    "        out = F.interpolate(out, 8)\n",
    "        out = F.leaky_relu(self.dec_cnn_1(out))\n",
    "        \n",
    "        out = F.interpolate(out, 16)\n",
    "        out = F.leaky_relu(self.dec_cnn_2(out))\n",
    "        \n",
    "        out = F.interpolate(out, 32)\n",
    "        out = F.leaky_relu(self.dec_cnn_3(out))\n",
    "        \n",
    "        out = F.interpolate(out, 64)\n",
    "        out = torch.sigmoid(self.dec_cnn_4(out))\n",
    "        \n",
    "        return out\n",
    "        \n",
    "    def forward(self, data):\n",
    "        mu, logvar = self.encode(data)\n",
    "        code = self.reparametrize(mu, logvar)\n",
    "        out = self.decode(code)\n",
    "        return out, mu, logvar"
   ]
  },
  {
   "cell_type": "code",
   "execution_count": 2748,
   "metadata": {},
   "outputs": [],
   "source": [
    "vae = VAE().cuda()"
   ]
  },
  {
   "cell_type": "code",
   "execution_count": 2749,
   "metadata": {},
   "outputs": [
    {
     "ename": "RuntimeError",
     "evalue": "shape '[1, 256, 2, 2]' is invalid for input of size 4096",
     "output_type": "error",
     "traceback": [
      "\u001b[1;31m---------------------------------------------------------------------------\u001b[0m",
      "\u001b[1;31mRuntimeError\u001b[0m                              Traceback (most recent call last)",
      "\u001b[1;32m<ipython-input-2749-513895867069>\u001b[0m in \u001b[0;36m<module>\u001b[1;34m\u001b[0m\n\u001b[0;32m      1\u001b[0m \u001b[0mx\u001b[0m \u001b[1;33m=\u001b[0m \u001b[0mdataset\u001b[0m\u001b[1;33m[\u001b[0m\u001b[1;36m400\u001b[0m\u001b[1;33m]\u001b[0m\u001b[1;33m.\u001b[0m\u001b[0mcuda\u001b[0m\u001b[1;33m(\u001b[0m\u001b[1;33m)\u001b[0m\u001b[1;33m\u001b[0m\u001b[1;33m\u001b[0m\u001b[0m\n\u001b[1;32m----> 2\u001b[1;33m \u001b[0mout\u001b[0m\u001b[1;33m,\u001b[0m \u001b[0m_\u001b[0m\u001b[1;33m,\u001b[0m \u001b[0m_\u001b[0m \u001b[1;33m=\u001b[0m \u001b[0mvae\u001b[0m\u001b[1;33m(\u001b[0m\u001b[0mx\u001b[0m\u001b[1;33m.\u001b[0m\u001b[0mview\u001b[0m\u001b[1;33m(\u001b[0m\u001b[1;36m1\u001b[0m\u001b[1;33m,\u001b[0m \u001b[1;36m1\u001b[0m\u001b[1;33m,\u001b[0m \u001b[1;36m64\u001b[0m\u001b[1;33m,\u001b[0m \u001b[1;36m64\u001b[0m\u001b[1;33m)\u001b[0m\u001b[1;33m)\u001b[0m\u001b[1;33m\u001b[0m\u001b[1;33m\u001b[0m\u001b[0m\n\u001b[0m\u001b[0;32m      3\u001b[0m \u001b[0mplt\u001b[0m\u001b[1;33m.\u001b[0m\u001b[0mimshow\u001b[0m\u001b[1;33m(\u001b[0m\u001b[0mout\u001b[0m\u001b[1;33m.\u001b[0m\u001b[0mview\u001b[0m\u001b[1;33m(\u001b[0m\u001b[1;36m64\u001b[0m\u001b[1;33m,\u001b[0m \u001b[1;36m64\u001b[0m\u001b[1;33m)\u001b[0m\u001b[1;33m.\u001b[0m\u001b[0mcpu\u001b[0m\u001b[1;33m(\u001b[0m\u001b[1;33m)\u001b[0m\u001b[1;33m.\u001b[0m\u001b[0mdetach\u001b[0m\u001b[1;33m(\u001b[0m\u001b[1;33m)\u001b[0m\u001b[1;33m.\u001b[0m\u001b[0mnumpy\u001b[0m\u001b[1;33m(\u001b[0m\u001b[1;33m)\u001b[0m\u001b[1;33m)\u001b[0m\u001b[1;33m\u001b[0m\u001b[1;33m\u001b[0m\u001b[0m\n\u001b[0;32m      4\u001b[0m \u001b[0mplt\u001b[0m\u001b[1;33m.\u001b[0m\u001b[0mshow\u001b[0m\u001b[1;33m(\u001b[0m\u001b[1;33m)\u001b[0m\u001b[1;33m\u001b[0m\u001b[1;33m\u001b[0m\u001b[0m\n",
      "\u001b[1;32md:\\program files\\python\\python37\\lib\\site-packages\\torch\\nn\\modules\\module.py\u001b[0m in \u001b[0;36m__call__\u001b[1;34m(self, *input, **kwargs)\u001b[0m\n\u001b[0;32m    548\u001b[0m             \u001b[0mresult\u001b[0m \u001b[1;33m=\u001b[0m \u001b[0mself\u001b[0m\u001b[1;33m.\u001b[0m\u001b[0m_slow_forward\u001b[0m\u001b[1;33m(\u001b[0m\u001b[1;33m*\u001b[0m\u001b[0minput\u001b[0m\u001b[1;33m,\u001b[0m \u001b[1;33m**\u001b[0m\u001b[0mkwargs\u001b[0m\u001b[1;33m)\u001b[0m\u001b[1;33m\u001b[0m\u001b[1;33m\u001b[0m\u001b[0m\n\u001b[0;32m    549\u001b[0m         \u001b[1;32melse\u001b[0m\u001b[1;33m:\u001b[0m\u001b[1;33m\u001b[0m\u001b[1;33m\u001b[0m\u001b[0m\n\u001b[1;32m--> 550\u001b[1;33m             \u001b[0mresult\u001b[0m \u001b[1;33m=\u001b[0m \u001b[0mself\u001b[0m\u001b[1;33m.\u001b[0m\u001b[0mforward\u001b[0m\u001b[1;33m(\u001b[0m\u001b[1;33m*\u001b[0m\u001b[0minput\u001b[0m\u001b[1;33m,\u001b[0m \u001b[1;33m**\u001b[0m\u001b[0mkwargs\u001b[0m\u001b[1;33m)\u001b[0m\u001b[1;33m\u001b[0m\u001b[1;33m\u001b[0m\u001b[0m\n\u001b[0m\u001b[0;32m    551\u001b[0m         \u001b[1;32mfor\u001b[0m \u001b[0mhook\u001b[0m \u001b[1;32min\u001b[0m \u001b[0mself\u001b[0m\u001b[1;33m.\u001b[0m\u001b[0m_forward_hooks\u001b[0m\u001b[1;33m.\u001b[0m\u001b[0mvalues\u001b[0m\u001b[1;33m(\u001b[0m\u001b[1;33m)\u001b[0m\u001b[1;33m:\u001b[0m\u001b[1;33m\u001b[0m\u001b[1;33m\u001b[0m\u001b[0m\n\u001b[0;32m    552\u001b[0m             \u001b[0mhook_result\u001b[0m \u001b[1;33m=\u001b[0m \u001b[0mhook\u001b[0m\u001b[1;33m(\u001b[0m\u001b[0mself\u001b[0m\u001b[1;33m,\u001b[0m \u001b[0minput\u001b[0m\u001b[1;33m,\u001b[0m \u001b[0mresult\u001b[0m\u001b[1;33m)\u001b[0m\u001b[1;33m\u001b[0m\u001b[1;33m\u001b[0m\u001b[0m\n",
      "\u001b[1;32m<ipython-input-2747-867809942983>\u001b[0m in \u001b[0;36mforward\u001b[1;34m(self, data)\u001b[0m\n\u001b[0;32m     77\u001b[0m         \u001b[0mmu\u001b[0m\u001b[1;33m,\u001b[0m \u001b[0mlogvar\u001b[0m \u001b[1;33m=\u001b[0m \u001b[0mself\u001b[0m\u001b[1;33m.\u001b[0m\u001b[0mencode\u001b[0m\u001b[1;33m(\u001b[0m\u001b[0mdata\u001b[0m\u001b[1;33m)\u001b[0m\u001b[1;33m\u001b[0m\u001b[1;33m\u001b[0m\u001b[0m\n\u001b[0;32m     78\u001b[0m         \u001b[0mcode\u001b[0m \u001b[1;33m=\u001b[0m \u001b[0mself\u001b[0m\u001b[1;33m.\u001b[0m\u001b[0mreparametrize\u001b[0m\u001b[1;33m(\u001b[0m\u001b[0mmu\u001b[0m\u001b[1;33m,\u001b[0m \u001b[0mlogvar\u001b[0m\u001b[1;33m)\u001b[0m\u001b[1;33m\u001b[0m\u001b[1;33m\u001b[0m\u001b[0m\n\u001b[1;32m---> 79\u001b[1;33m         \u001b[0mout\u001b[0m \u001b[1;33m=\u001b[0m \u001b[0mself\u001b[0m\u001b[1;33m.\u001b[0m\u001b[0mdecode\u001b[0m\u001b[1;33m(\u001b[0m\u001b[0mcode\u001b[0m\u001b[1;33m)\u001b[0m\u001b[1;33m\u001b[0m\u001b[1;33m\u001b[0m\u001b[0m\n\u001b[0m\u001b[0;32m     80\u001b[0m         \u001b[1;32mreturn\u001b[0m \u001b[0mout\u001b[0m\u001b[1;33m,\u001b[0m \u001b[0mmu\u001b[0m\u001b[1;33m,\u001b[0m \u001b[0mlogvar\u001b[0m\u001b[1;33m\u001b[0m\u001b[1;33m\u001b[0m\u001b[0m\n",
      "\u001b[1;32m<ipython-input-2747-867809942983>\u001b[0m in \u001b[0;36mdecode\u001b[1;34m(self, code)\u001b[0m\n\u001b[0;32m     55\u001b[0m     \u001b[1;32mdef\u001b[0m \u001b[0mdecode\u001b[0m\u001b[1;33m(\u001b[0m\u001b[0mself\u001b[0m\u001b[1;33m,\u001b[0m \u001b[0mcode\u001b[0m\u001b[1;33m)\u001b[0m\u001b[1;33m:\u001b[0m\u001b[1;33m\u001b[0m\u001b[1;33m\u001b[0m\u001b[0m\n\u001b[0;32m     56\u001b[0m         \u001b[0mout\u001b[0m \u001b[1;33m=\u001b[0m \u001b[0mF\u001b[0m\u001b[1;33m.\u001b[0m\u001b[0mleaky_relu\u001b[0m\u001b[1;33m(\u001b[0m\u001b[0mself\u001b[0m\u001b[1;33m.\u001b[0m\u001b[0mdec_linear_1\u001b[0m\u001b[1;33m(\u001b[0m\u001b[0mcode\u001b[0m\u001b[1;33m)\u001b[0m\u001b[1;33m)\u001b[0m\u001b[1;33m\u001b[0m\u001b[1;33m\u001b[0m\u001b[0m\n\u001b[1;32m---> 57\u001b[1;33m         \u001b[0mout\u001b[0m \u001b[1;33m=\u001b[0m \u001b[0mout\u001b[0m\u001b[1;33m.\u001b[0m\u001b[0mview\u001b[0m\u001b[1;33m(\u001b[0m\u001b[0mout\u001b[0m\u001b[1;33m.\u001b[0m\u001b[0msize\u001b[0m\u001b[1;33m(\u001b[0m\u001b[1;36m0\u001b[0m\u001b[1;33m)\u001b[0m\u001b[1;33m,\u001b[0m \u001b[1;36m256\u001b[0m\u001b[1;33m,\u001b[0m \u001b[1;36m2\u001b[0m\u001b[1;33m,\u001b[0m \u001b[1;36m2\u001b[0m\u001b[1;33m)\u001b[0m\u001b[1;33m\u001b[0m\u001b[1;33m\u001b[0m\u001b[0m\n\u001b[0m\u001b[0;32m     58\u001b[0m \u001b[1;33m\u001b[0m\u001b[0m\n\u001b[0;32m     59\u001b[0m         \u001b[0mout\u001b[0m \u001b[1;33m=\u001b[0m \u001b[0mF\u001b[0m\u001b[1;33m.\u001b[0m\u001b[0minterpolate\u001b[0m\u001b[1;33m(\u001b[0m\u001b[0mout\u001b[0m\u001b[1;33m,\u001b[0m \u001b[1;36m4\u001b[0m\u001b[1;33m)\u001b[0m\u001b[1;33m\u001b[0m\u001b[1;33m\u001b[0m\u001b[0m\n",
      "\u001b[1;31mRuntimeError\u001b[0m: shape '[1, 256, 2, 2]' is invalid for input of size 4096"
     ]
    }
   ],
   "source": [
    "x = dataset[400].cuda()\n",
    "out, _, _ = vae(x.view(1, 1, 64, 64))\n",
    "plt.imshow(out.view(64, 64).cpu().detach().numpy())\n",
    "plt.show()"
   ]
  },
  {
   "cell_type": "code",
   "execution_count": 2497,
   "metadata": {
    "scrolled": true
   },
   "outputs": [
    {
     "name": "stdout",
     "output_type": "stream",
     "text": [
      "epoch[1/50], loss=1.912, MSE=1.742, KLD=0.170\n",
      "epoch[2/50], loss=1.565, MSE=1.463, KLD=0.102\n",
      "epoch[3/50], loss=0.972, MSE=0.882, KLD=0.090\n",
      "epoch[4/50], loss=0.388, MSE=0.315, KLD=0.073\n",
      "epoch[5/50], loss=0.370, MSE=0.304, KLD=0.065\n",
      "epoch[6/50], loss=0.828, MSE=0.757, KLD=0.071\n",
      "epoch[7/50], loss=0.834, MSE=0.769, KLD=0.065\n",
      "epoch[8/50], loss=0.743, MSE=0.683, KLD=0.061\n",
      "epoch[9/50], loss=0.411, MSE=0.350, KLD=0.061\n",
      "epoch[10/50], loss=0.628, MSE=0.570, KLD=0.058\n",
      "epoch[11/50], loss=0.377, MSE=0.317, KLD=0.060\n",
      "epoch[12/50], loss=0.415, MSE=0.351, KLD=0.065\n",
      "epoch[13/50], loss=0.294, MSE=0.239, KLD=0.055\n",
      "epoch[14/50], loss=0.526, MSE=0.463, KLD=0.063\n",
      "epoch[15/50], loss=0.502, MSE=0.443, KLD=0.059\n",
      "epoch[16/50], loss=0.393, MSE=0.341, KLD=0.052\n",
      "epoch[17/50], loss=0.416, MSE=0.335, KLD=0.081\n",
      "epoch[18/50], loss=0.293, MSE=0.244, KLD=0.049\n",
      "epoch[19/50], loss=0.600, MSE=0.548, KLD=0.052\n",
      "epoch[20/50], loss=0.457, MSE=0.402, KLD=0.055\n",
      "epoch[21/50], loss=0.359, MSE=0.305, KLD=0.054\n",
      "epoch[22/50], loss=0.539, MSE=0.486, KLD=0.053\n",
      "epoch[23/50], loss=0.842, MSE=0.791, KLD=0.051\n",
      "epoch[24/50], loss=0.225, MSE=0.175, KLD=0.050\n",
      "epoch[25/50], loss=0.419, MSE=0.368, KLD=0.050\n",
      "epoch[26/50], loss=0.300, MSE=0.248, KLD=0.053\n",
      "epoch[27/50], loss=0.349, MSE=0.300, KLD=0.049\n",
      "epoch[28/50], loss=0.321, MSE=0.274, KLD=0.047\n",
      "epoch[29/50], loss=0.388, MSE=0.340, KLD=0.048\n",
      "epoch[30/50], loss=0.329, MSE=0.280, KLD=0.049\n",
      "epoch[31/50], loss=0.264, MSE=0.213, KLD=0.051\n",
      "epoch[32/50], loss=0.278, MSE=0.222, KLD=0.057\n",
      "epoch[33/50], loss=0.405, MSE=0.352, KLD=0.053\n",
      "epoch[34/50], loss=0.275, MSE=0.227, KLD=0.048\n",
      "epoch[35/50], loss=0.229, MSE=0.180, KLD=0.049\n",
      "epoch[36/50], loss=0.570, MSE=0.520, KLD=0.051\n",
      "epoch[37/50], loss=0.353, MSE=0.305, KLD=0.049\n",
      "epoch[38/50], loss=0.483, MSE=0.438, KLD=0.045\n",
      "epoch[39/50], loss=0.365, MSE=0.315, KLD=0.050\n",
      "epoch[40/50], loss=0.256, MSE=0.207, KLD=0.049\n",
      "epoch[41/50], loss=0.315, MSE=0.270, KLD=0.046\n",
      "epoch[42/50], loss=0.183, MSE=0.134, KLD=0.049\n",
      "epoch[43/50], loss=0.210, MSE=0.159, KLD=0.051\n",
      "epoch[44/50], loss=0.377, MSE=0.331, KLD=0.046\n",
      "epoch[45/50], loss=0.168, MSE=0.123, KLD=0.045\n",
      "epoch[46/50], loss=0.474, MSE=0.427, KLD=0.047\n",
      "epoch[47/50], loss=0.215, MSE=0.171, KLD=0.044\n",
      "epoch[48/50], loss=0.238, MSE=0.192, KLD=0.046\n",
      "epoch[49/50], loss=0.206, MSE=0.163, KLD=0.043\n",
      "epoch[50/50], loss=0.379, MSE=0.328, KLD=0.051\n"
     ]
    }
   ],
   "source": [
    "import torch.optim as optim\n",
    "\n",
    "def loss_function(recon_x, x, mu, logvar):\n",
    "    MSE = nn.MSELoss(reduction='sum')(recon_x, x)\n",
    "    KLD = -0.5 * torch.mean(1 + logvar - mu.pow(2) - logvar.exp())\n",
    "    return MSE + KLD, MSE, KLD\n",
    "\n",
    "optimizer = optim.Adam(vae.parameters(), lr=0.0001)\n",
    "\n",
    "epochs = 50\n",
    "\n",
    "for epoch in range(epochs):\n",
    "    vae.train()\n",
    "    for data in dataloader:\n",
    "        optimizer.zero_grad()\n",
    "        x = data.cuda()\n",
    "        out, mu, logvar = vae(x)\n",
    "        loss, MSE, KLD = loss_function(out, x, mu, logvar)\n",
    "        loss.backward()\n",
    "        optimizer.step()\n",
    "    msg = \"epoch[{}/{}], loss={:.3f}, MSE={:.3f}, KLD={:.3f}\".format(epoch + 1, epochs, \n",
    "          loss.item() / batch_size, MSE.item() / batch_size, KLD.item() / batch_size)\n",
    "    print(msg)"
   ]
  },
  {
   "cell_type": "code",
   "execution_count": 2498,
   "metadata": {},
   "outputs": [],
   "source": [
    "torch.cuda.empty_cache()"
   ]
  },
  {
   "cell_type": "code",
   "execution_count": 2507,
   "metadata": {},
   "outputs": [
    {
     "data": {
      "image/png": "[encoded data removed]",
      "text/plain": [
       "<Figure size 432x288 with 1 Axes>"
      ]
     },
     "metadata": {
      "needs_background": "light"
     },
     "output_type": "display_data"
    },
    {
     "data": {
      "image/png": "[encoded data removed]",
      "text/plain": [
       "<Figure size 432x288 with 1 Axes>"
      ]
     },
     "metadata": {
      "needs_background": "light"
     },
     "output_type": "display_data"
    }
   ],
   "source": [
    "x = dataset[39990].cuda()\n",
    "plt.imshow(x.view(64, 64).cpu())\n",
    "plt.show()\n",
    "out, _, _ = vae(x.view(1, 1, 64, 64))\n",
    "plt.imshow(out.view(64, 64).cpu().detach().numpy())\n",
    "plt.show()"
   ]
  },
  {
   "cell_type": "code",
   "execution_count": 2508,
   "metadata": {},
   "outputs": [],
   "source": [
    "#torch.save(vae.state_dict(), './vae256_save')"
   ]
  },
  {
   "cell_type": "code",
   "execution_count": 295,
   "metadata": {},
   "outputs": [
    {
     "data": {
      "text/plain": [
       "<All keys matched successfully>"
      ]
     },
     "execution_count": 295,
     "metadata": {},
     "output_type": "execute_result"
    }
   ],
   "source": [
    "vae.load_state_dict(torch.load('./vae_save'))"
   ]
  },
  {
   "cell_type": "code",
   "execution_count": 2586,
   "metadata": {},
   "outputs": [],
   "source": [
    "xs = []\n",
    "for data in dataset:\n",
    "    mu, logvar = vae.encode(data.cuda().view(1, 1, 64, 64))\n",
    "    code = vae.reparametrize(mu, logvar)\n",
    "    xs.append(code.cpu().detach()[0])"
   ]
  },
  {
   "cell_type": "code",
   "execution_count": 2588,
   "metadata": {},
   "outputs": [],
   "source": [
    "codes = torch.cat(xs).view(-1, 256)"
   ]
  },
  {
   "cell_type": "code",
   "execution_count": 2589,
   "metadata": {},
   "outputs": [],
   "source": [
    "mean = codes.mean(axis=0)\n",
    "std = codes.std(axis=0)"
   ]
  },
  {
   "cell_type": "code",
   "execution_count": 2590,
   "metadata": {},
   "outputs": [
    {
     "data": {
      "text/plain": [
       "tensor([ 3.8036e-02,  5.5389e-01,  3.7009e-01, -1.6637e+00,  7.9678e-01,\n",
       "        -9.7635e-01,  1.1279e-01, -9.2063e-02,  3.9902e-01,  4.1676e-01,\n",
       "        -6.1056e-01,  1.2941e-01, -1.6563e+00, -8.2433e-02, -2.1620e-02,\n",
       "        -9.6602e-02,  9.2073e-01, -4.6254e-02,  9.8581e-02,  4.3682e-01,\n",
       "        -1.0571e+00,  1.9942e-01,  7.8033e-01,  2.6952e-01, -1.1434e+00,\n",
       "        -1.8999e-01,  9.9231e-01, -6.0998e-01, -4.1585e-01, -7.0050e-01,\n",
       "         4.5293e-01,  6.3027e-01,  2.7848e-01,  1.2746e+00,  5.7448e-02,\n",
       "         8.3531e-02, -1.7530e+00,  1.4994e+00,  4.9162e-01, -2.6529e-02,\n",
       "         1.6261e+00,  3.7448e-01,  1.1693e+00, -1.1151e+00, -7.2319e-04,\n",
       "        -8.9576e-01, -1.6501e+00,  2.1014e-01,  8.2547e-01,  1.4258e-01,\n",
       "         1.1221e-01,  3.1045e-01, -1.0894e+00,  1.1588e+00, -7.4628e-01,\n",
       "        -7.5103e-01, -2.1867e-01,  5.4928e-01, -4.4731e-01,  7.3375e-02,\n",
       "        -7.5809e-01, -1.3832e+00,  1.0985e-01,  2.4322e-01,  7.5380e-01,\n",
       "         9.2254e-01, -1.6573e+00,  1.4201e-01, -3.7933e-01,  1.1877e+00,\n",
       "        -4.1448e-01,  2.8263e-01,  2.7640e-01,  2.5528e-01, -8.6197e-01,\n",
       "         1.5951e+00,  2.1392e+00, -3.2646e-02, -9.0487e-01,  1.9169e+00,\n",
       "         8.3183e-01, -3.0394e-01, -1.1860e+00,  3.4420e-01,  1.8010e-01,\n",
       "        -3.6356e-01, -7.5621e-01,  8.3941e-01,  9.5672e-01, -2.8908e-01,\n",
       "         8.1208e-01, -2.8566e-01, -1.0170e-01, -4.1332e-01,  5.4604e-01,\n",
       "         6.6881e-02,  1.2775e+00,  2.5132e-02, -5.4993e-01,  8.0812e-01,\n",
       "         1.2460e+00, -1.7246e+00,  5.3159e-01, -1.0477e+00,  7.0879e-01,\n",
       "         1.6262e+00,  1.0821e+00, -2.5616e-01, -1.6201e+00, -2.1982e-01,\n",
       "         8.5428e-01,  1.5445e+00,  6.4068e-01, -3.8882e-01, -9.5474e-01,\n",
       "         9.0304e-01,  1.1215e-01,  1.0682e+00, -5.1119e-01,  1.5556e-01,\n",
       "         8.9025e-01, -2.3602e-01,  3.7922e-01, -2.9086e-01,  6.8511e-02,\n",
       "        -7.1095e-01,  1.6167e+00,  1.4120e-01,  1.1029e+00, -9.2532e-01,\n",
       "         1.1857e-01, -1.0384e+00,  1.0625e+00, -2.1312e+00,  9.0403e-01,\n",
       "        -1.0429e+00, -1.2875e-01,  9.7552e-01, -3.0822e-02, -3.9876e-01,\n",
       "         3.5676e-02,  5.5951e-01,  1.0160e-02,  2.4490e+00,  7.2958e-01,\n",
       "         8.9324e-01, -2.4114e-02,  8.6914e-02, -7.0318e-01, -3.0022e-01,\n",
       "        -1.3744e+00, -5.2732e-01,  4.2039e-02, -1.5394e+00, -3.2245e-01,\n",
       "         1.1597e+00,  3.0220e-01, -1.9113e+00, -3.2855e-01,  4.7950e-01,\n",
       "        -7.8903e-01,  7.3392e-01, -1.6509e+00,  8.3990e-01,  5.2175e-01,\n",
       "        -1.0008e+00, -5.8853e-01,  2.1221e-01, -4.2258e-02, -6.5203e-02,\n",
       "         9.6467e-02, -1.3863e+00, -4.4186e-01,  1.0229e-01, -1.8857e-01,\n",
       "         1.6758e+00,  7.5285e-01, -2.4219e-01,  4.3959e-01, -5.3377e-01,\n",
       "        -2.9577e-01,  1.2456e+00,  1.2291e+00,  8.6387e-02,  7.7487e-01,\n",
       "         3.5230e-01,  5.8160e-02, -1.9838e+00, -3.1008e-02, -1.4457e+00,\n",
       "        -1.5175e+00, -1.0169e+00, -2.7408e+00,  1.0195e+00,  4.3796e-01,\n",
       "         5.5984e-01, -5.9250e-01,  4.0108e-01,  7.6357e-01, -4.4263e-01,\n",
       "        -3.1139e-01,  7.8816e-01, -1.7311e+00, -4.7651e-01, -1.4592e+00,\n",
       "         3.0691e-01, -5.2987e-02,  9.0969e-02,  8.5069e-01, -6.7255e-01,\n",
       "        -1.4997e+00, -2.5334e-01, -2.2327e-01,  1.1256e-01, -8.1108e-01,\n",
       "         8.9659e-02,  4.7807e-01, -5.4669e-01, -2.9829e-01,  1.8446e+00,\n",
       "         1.1752e-01,  6.4237e-01,  5.7732e-01, -4.9302e-01,  6.7943e-01,\n",
       "        -1.3676e-01, -9.8837e-01, -1.3647e-01, -7.1057e-01,  1.5971e-01,\n",
       "        -1.1169e+00, -2.7497e-01, -4.6352e-01, -9.3203e-02, -5.7002e-01,\n",
       "        -3.4683e-01, -2.3619e-01, -2.6915e-01, -6.7518e-01, -2.0735e-01,\n",
       "        -2.9463e-01,  2.0800e-01,  2.2911e+00, -2.7592e-01,  4.5809e-02,\n",
       "         9.4785e-01,  9.3480e-01,  3.4446e-01, -5.3203e-01, -2.0683e-01,\n",
       "        -1.1519e+00,  2.3604e-01, -1.3701e+00, -1.1702e+00,  1.2149e+00,\n",
       "        -3.3344e-01])"
      ]
     },
     "execution_count": 2590,
     "metadata": {},
     "output_type": "execute_result"
    }
   ],
   "source": [
    "mean"
   ]
  },
  {
   "cell_type": "code",
   "execution_count": 2591,
   "metadata": {},
   "outputs": [
    {
     "data": {
      "text/plain": [
       "tensor([1.7352, 1.0538, 0.9241, 1.6282, 0.9960, 0.7758, 1.7339, 1.0933, 1.1307,\n",
       "        0.8932, 1.2305, 1.3783, 0.8349, 0.7730, 1.3000, 0.8675, 0.8477, 1.0067,\n",
       "        1.1713, 1.8116, 1.7703, 1.2342, 0.8993, 0.9521, 0.7016, 0.8791, 0.8612,\n",
       "        1.3155, 0.9732, 0.9120, 1.1486, 0.8884, 1.0329, 1.3704, 1.4272, 0.8501,\n",
       "        0.7902, 1.1297, 0.8368, 0.8829, 0.8280, 0.8548, 0.8668, 0.8529, 1.6609,\n",
       "        1.8816, 1.1404, 1.3586, 1.5369, 0.7593, 1.1265, 1.6573, 1.0737, 0.5230,\n",
       "        1.0433, 0.9926, 0.7919, 1.4898, 1.0442, 1.1253, 1.1279, 0.9741, 0.8860,\n",
       "        0.7736, 1.1500, 1.0213, 0.9985, 0.9258, 1.0081, 1.1719, 0.8954, 0.9481,\n",
       "        1.0188, 1.1327, 0.7141, 1.2525, 1.2429, 0.9032, 0.8983, 0.7253, 1.0193,\n",
       "        1.1460, 1.1177, 0.9158, 1.2719, 0.8555, 0.7832, 0.8231, 1.0491, 1.5268,\n",
       "        1.1599, 0.9707, 0.9692, 0.9274, 1.0300, 0.8213, 1.0396, 1.1634, 0.9102,\n",
       "        0.9711, 0.6818, 1.1158, 1.1604, 0.6842, 0.9923, 1.6506, 0.9915, 0.9916,\n",
       "        0.8559, 1.2521, 0.8503, 0.9430, 0.9040, 0.9577, 0.8256, 1.2465, 1.5537,\n",
       "        0.7071, 1.0113, 0.8661, 1.2973, 1.0336, 1.3456, 0.9572, 1.2785, 0.9264,\n",
       "        1.3869, 0.7927, 1.0776, 0.7740, 1.0760, 0.8813, 0.9135, 1.3575, 2.0889,\n",
       "        1.0245, 0.8569, 1.1174, 0.8069, 1.1143, 0.9859, 1.2510, 1.2885, 1.3687,\n",
       "        0.8748, 1.4707, 0.8506, 1.6399, 1.1784, 1.1680, 0.9149, 1.2778, 0.8448,\n",
       "        1.5933, 1.0582, 1.0157, 1.1125, 1.0576, 2.0174, 0.9506, 0.9606, 1.0016,\n",
       "        0.7658, 1.1465, 1.3086, 0.8574, 1.3038, 0.7919, 1.4470, 0.8628, 0.9153,\n",
       "        0.9346, 0.8602, 0.8616, 0.8956, 1.4230, 0.8898, 1.4260, 1.1234, 1.0198,\n",
       "        0.9800, 1.2782, 1.0929, 1.0803, 0.8608, 1.3923, 1.0358, 1.3376, 1.2338,\n",
       "        1.1293, 1.7531, 1.1955, 0.9565, 0.7136, 1.0566, 1.7075, 0.8207, 1.2541,\n",
       "        0.9806, 1.1933, 0.9052, 0.7926, 1.0137, 0.9976, 1.1163, 0.8226, 1.0916,\n",
       "        0.7666, 0.8564, 0.9581, 1.1101, 0.9527, 0.8842, 1.2650, 1.3186, 1.1353,\n",
       "        1.3972, 0.8921, 0.9328, 0.9709, 1.4221, 0.9821, 2.0625, 1.1231, 0.9747,\n",
       "        0.9905, 1.1909, 1.2468, 0.8861, 0.8543, 1.1006, 1.0966, 1.2809, 0.9427,\n",
       "        0.8108, 1.1356, 0.7692, 0.9172, 1.2772, 0.9643, 1.1982, 0.8245, 1.1082,\n",
       "        0.8139, 1.0689, 1.1270, 1.0581, 0.9004, 1.2279, 0.9797, 1.1759, 1.4792,\n",
       "        1.7049, 0.7716, 1.0612, 0.8646])"
      ]
     },
     "execution_count": 2591,
     "metadata": {},
     "output_type": "execute_result"
    }
   ],
   "source": [
    "std"
   ]
  },
  {
   "cell_type": "code",
   "execution_count": 2740,
   "metadata": {
    "scrolled": false
   },
   "outputs": [
    {
     "data": {
      "image/png": "[encoded data removed]",
      "text/plain": [
       "<Figure size 432x288 with 2 Axes>"
      ]
     },
     "metadata": {
      "needs_background": "light"
     },
     "output_type": "display_data"
    }
   ],
   "source": [
    "# Generator\n",
    "code = torch.FloatTensor(1, 256).normal_()\n",
    "#code = mean + std * code\n",
    "\n",
    "out = vae.decode(code.cuda())\n",
    "p = plt.imshow(out.view(64, 64).cpu().detach().numpy())\n",
    "plt.colorbar(p)\n",
    "plt.show()"
   ]
  },
  {
   "cell_type": "code",
   "execution_count": null,
   "metadata": {},
   "outputs": [],
   "source": []
  }
 ],
 "metadata": {
  "kernelspec": {
   "display_name": "Python 3",
   "language": "python",
   "name": "python3"
  },
  "language_info": {
   "codemirror_mode": {
    "name": "ipython",
    "version": 3
   },
   "file_extension": ".py",
   "mimetype": "text/x-python",
   "name": "python",
   "nbconvert_exporter": "python",
   "pygments_lexer": "ipython3",
   "version": "3.7.4"
  }
 },
 "nbformat": 4,
 "nbformat_minor": 4
}
